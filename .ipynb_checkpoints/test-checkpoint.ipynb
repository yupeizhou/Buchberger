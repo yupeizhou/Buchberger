{
 "cells": [
  {
   "cell_type": "code",
   "execution_count": 1,
   "metadata": {},
   "outputs": [],
   "source": [
    "%load_ext autoreload\n",
    "%autoreload 2"
   ]
  },
  {
   "cell_type": "code",
   "execution_count": 62,
   "metadata": {},
   "outputs": [],
   "source": [
    "import polynomial as poly\n",
    "import numpy as np\n",
    "import reduction as rd"
   ]
  },
  {
   "cell_type": "code",
   "execution_count": 63,
   "metadata": {},
   "outputs": [],
   "source": [
    "a = poly.Polynomial(np.array([[2.5, 1, 1, 0], [3, 1, 0, 1], [-1, 1, 0, 1], [3, 0, 0, 2], [2, 0, 2, 0], [1, 0, 1, 1]]))\n",
    "b = poly.Polynomial(np.array([[1, 0, 0, 2], [-2, 1, 2, 1]]))"
   ]
  },
  {
   "cell_type": "code",
   "execution_count": 64,
   "metadata": {},
   "outputs": [
    {
     "data": {
      "text/plain": [
       "(3, 5, 2.0)"
      ]
     },
     "execution_count": 64,
     "metadata": {},
     "output_type": "execute_result"
    }
   ],
   "source": [
    "a.nvar, a.nterm, a.degree"
   ]
  },
  {
   "cell_type": "code",
   "execution_count": 65,
   "metadata": {},
   "outputs": [
    {
     "name": "stdout",
     "output_type": "stream",
     "text": [
      "2.5*x1^1.0*x2^1.0 + 2.0*x2^2.0 + 2.0*x1^1.0*x3^1.0 + 1.0*x2^1.0*x3^1.0 + 3.0*x3^2.0\n"
     ]
    }
   ],
   "source": [
    "print(a)"
   ]
  },
  {
   "cell_type": "code",
   "execution_count": 66,
   "metadata": {},
   "outputs": [
    {
     "data": {
      "text/plain": [
       "2.5*x1^1.0*x2^1.0"
      ]
     },
     "execution_count": 66,
     "metadata": {},
     "output_type": "execute_result"
    }
   ],
   "source": [
    "a.lt()"
   ]
  },
  {
   "cell_type": "code",
   "execution_count": 67,
   "metadata": {},
   "outputs": [
    {
     "data": {
      "text/plain": [
       "-2.0*x1^1.0*x2^2.0*x3^1.0 + 2.5*x1^1.0*x2^1.0 + 2.0*x2^2.0 + 2.0*x1^1.0*x3^1.0 + 1.0*x2^1.0*x3^1.0 + 4.0*x3^2.0"
      ]
     },
     "execution_count": 67,
     "metadata": {},
     "output_type": "execute_result"
    }
   ],
   "source": [
    "b.add(a)"
   ]
  },
  {
   "cell_type": "code",
   "execution_count": 68,
   "metadata": {},
   "outputs": [
    {
     "data": {
      "text/plain": [
       "-2.0*x1^1.0*x2^2.0*x3^1.0 + 2.5*x1^1.0*x2^1.0 + 2.0*x2^2.0 + 2.0*x1^1.0*x3^1.0 + 1.0*x2^1.0*x3^1.0 + 4.0*x3^2.0"
      ]
     },
     "execution_count": 68,
     "metadata": {},
     "output_type": "execute_result"
    }
   ],
   "source": [
    "a.add(b)"
   ]
  },
  {
   "cell_type": "code",
   "execution_count": 9,
   "metadata": {},
   "outputs": [
    {
     "data": {
      "text/plain": [
       "2.0*x1^1.0*x2^2.0*x3^1.0 + 2.5*x1^1.0*x2^1.0 + 2.0*x2^2.0 + 2.0*x1^1.0*x3^1.0 + 1.0*x2^1.0*x3^1.0 + 2.0*x3^2.0"
      ]
     },
     "execution_count": 9,
     "metadata": {},
     "output_type": "execute_result"
    }
   ],
   "source": [
    "a.subtract(b)"
   ]
  },
  {
   "cell_type": "code",
   "execution_count": 10,
   "metadata": {},
   "outputs": [
    {
     "data": {
      "text/plain": [
       "-2.0*x1^1.0*x2^2.0*x3^1.0 + -2.5*x1^1.0*x2^1.0 + -2.0*x2^2.0 + -2.0*x1^1.0*x3^1.0 + -1.0*x2^1.0*x3^1.0 + -2.0*x3^2.0"
      ]
     },
     "execution_count": 10,
     "metadata": {},
     "output_type": "execute_result"
    }
   ],
   "source": [
    "b.subtract(a)"
   ]
  },
  {
   "cell_type": "code",
   "execution_count": 11,
   "metadata": {},
   "outputs": [
    {
     "data": {
      "text/plain": [
       "-5.0*x1^2.0*x2^3.0*x3^1.0 + -4.0*x1^1.0*x2^4.0*x3^1.0 + -4.0*x1^2.0*x2^2.0*x3^2.0 + -2.0*x1^1.0*x2^3.0*x3^2.0 + -6.0*x1^1.0*x2^2.0*x3^3.0 + 2.5*x1^1.0*x2^1.0*x3^2.0 + 2.0*x2^2.0*x3^2.0 + 2.0*x1^1.0*x3^3.0 + 1.0*x2^1.0*x3^3.0 + 3.0*x3^4.0"
      ]
     },
     "execution_count": 11,
     "metadata": {},
     "output_type": "execute_result"
    }
   ],
   "source": [
    "a.multiply(b)"
   ]
  },
  {
   "cell_type": "code",
   "execution_count": 12,
   "metadata": {},
   "outputs": [
    {
     "data": {
      "text/plain": [
       "-5.0*x1^2.0*x2^3.0*x3^1.0 + -4.0*x1^1.0*x2^4.0*x3^1.0 + -4.0*x1^2.0*x2^2.0*x3^2.0 + -2.0*x1^1.0*x2^3.0*x3^2.0 + -6.0*x1^1.0*x2^2.0*x3^3.0 + 2.5*x1^1.0*x2^1.0*x3^2.0 + 2.0*x2^2.0*x3^2.0 + 2.0*x1^1.0*x3^3.0 + 1.0*x2^1.0*x3^3.0 + 3.0*x3^4.0"
      ]
     },
     "execution_count": 12,
     "metadata": {},
     "output_type": "execute_result"
    }
   ],
   "source": [
    "b.multiply(a)"
   ]
  },
  {
   "cell_type": "code",
   "execution_count": 13,
   "metadata": {},
   "outputs": [],
   "source": [
    "c = poly.Polynomial(np.array([[1, 1, 0]]))\n",
    "d = poly.Polynomial(np.array([[1, 0, 1]]))"
   ]
  },
  {
   "cell_type": "code",
   "execution_count": 14,
   "metadata": {},
   "outputs": [
    {
     "data": {
      "text/plain": [
       "1*x1^2 + -1*x2^2"
      ]
     },
     "execution_count": 14,
     "metadata": {},
     "output_type": "execute_result"
    }
   ],
   "source": [
    "(c.add(d)).multiply(c.subtract(d))"
   ]
  },
  {
   "cell_type": "code",
   "execution_count": 15,
   "metadata": {},
   "outputs": [],
   "source": [
    "e = poly.Polynomial(np.array([[0, 1, 1], [0, 2, 3]]))"
   ]
  },
  {
   "cell_type": "code",
   "execution_count": 16,
   "metadata": {},
   "outputs": [
    {
     "data": {
      "text/plain": [
       "1.0*x1^1.0"
      ]
     },
     "execution_count": 16,
     "metadata": {},
     "output_type": "execute_result"
    }
   ],
   "source": [
    "e.add(c)"
   ]
  },
  {
   "cell_type": "code",
   "execution_count": 17,
   "metadata": {},
   "outputs": [
    {
     "data": {
      "text/plain": [
       "0"
      ]
     },
     "execution_count": 17,
     "metadata": {},
     "output_type": "execute_result"
    }
   ],
   "source": [
    "e.multiply(c)"
   ]
  },
  {
   "cell_type": "code",
   "execution_count": 18,
   "metadata": {},
   "outputs": [
    {
     "data": {
      "text/plain": [
       "1.0*x1^1.0"
      ]
     },
     "execution_count": 18,
     "metadata": {},
     "output_type": "execute_result"
    }
   ],
   "source": [
    "c.add(e)"
   ]
  },
  {
   "cell_type": "code",
   "execution_count": 19,
   "metadata": {},
   "outputs": [
    {
     "data": {
      "text/plain": [
       "0"
      ]
     },
     "execution_count": 19,
     "metadata": {},
     "output_type": "execute_result"
    }
   ],
   "source": [
    "c.multiply(e)"
   ]
  },
  {
   "cell_type": "code",
   "execution_count": 20,
   "metadata": {},
   "outputs": [
    {
     "data": {
      "text/plain": [
       "0"
      ]
     },
     "execution_count": 20,
     "metadata": {},
     "output_type": "execute_result"
    }
   ],
   "source": [
    "a.subtract(a)"
   ]
  },
  {
   "cell_type": "code",
   "execution_count": 21,
   "metadata": {},
   "outputs": [
    {
     "data": {
      "text/plain": [
       "5.0*x1^1.0*x2^1.0 + 4.0*x2^2.0 + 4.0*x1^1.0*x3^1.0 + 2.0*x2^1.0*x3^1.0 + 6.0*x3^2.0"
      ]
     },
     "execution_count": 21,
     "metadata": {},
     "output_type": "execute_result"
    }
   ],
   "source": [
    "a.scalar_multiply(2)"
   ]
  },
  {
   "cell_type": "code",
   "execution_count": 22,
   "metadata": {},
   "outputs": [
    {
     "data": {
      "text/plain": [
       "0"
      ]
     },
     "execution_count": 22,
     "metadata": {},
     "output_type": "execute_result"
    }
   ],
   "source": [
    "a.scalar_multiply(0)"
   ]
  },
  {
   "cell_type": "code",
   "execution_count": 35,
   "metadata": {},
   "outputs": [
    {
     "data": {
      "text/plain": [
       "False"
      ]
     },
     "execution_count": 35,
     "metadata": {},
     "output_type": "execute_result"
    }
   ],
   "source": [
    "c.divide(d)"
   ]
  },
  {
   "cell_type": "code",
   "execution_count": 46,
   "metadata": {},
   "outputs": [],
   "source": [
    "f = poly.Polynomial(np.array([[4, 3, 2]]))\n",
    "g = poly.Polynomial(np.array([[3, 1, 2]]))"
   ]
  },
  {
   "cell_type": "code",
   "execution_count": 47,
   "metadata": {},
   "outputs": [
    {
     "data": {
      "text/plain": [
       "1.3333333333333333*x1^2.0"
      ]
     },
     "execution_count": 47,
     "metadata": {},
     "output_type": "execute_result"
    }
   ],
   "source": [
    "f.divide(g)"
   ]
  },
  {
   "cell_type": "code",
   "execution_count": 73,
   "metadata": {},
   "outputs": [],
   "source": [
    "h = poly.Polynomial(np.array([[-1, 4, 0], [1, 0, 5]]))\n",
    "q = poly.Polynomial(np.array([[1, 1, 0], [1, 0, 3]]))"
   ]
  },
  {
   "cell_type": "code",
   "execution_count": 76,
   "metadata": {},
   "outputs": [
    {
     "data": {
      "text/plain": [
       "-1.0*x1^4.0 + -1.0*x1^1.0*x2^2.0"
      ]
     },
     "execution_count": 76,
     "metadata": {},
     "output_type": "execute_result"
    }
   ],
   "source": [
    "rd.reduce(h, q)"
   ]
  },
  {
   "cell_type": "code",
   "execution_count": 77,
   "metadata": {},
   "outputs": [],
   "source": [
    "f1 = poly.Polynomial(np.array([[1, 3, 0], [1, 0, 2]]))\n",
    "f2 = poly.Polynomial(np.array([[1, 2, 1], [-1, 0, 0]]))"
   ]
  },
  {
   "cell_type": "code",
   "execution_count": 79,
   "metadata": {},
   "outputs": [
    {
     "data": {
      "text/plain": [
       "1*x2^3 + 1*x1^1"
      ]
     },
     "execution_count": 79,
     "metadata": {},
     "output_type": "execute_result"
    }
   ],
   "source": [
    "rd.reduce_lst(q, [f1, f2])"
   ]
  },
  {
   "cell_type": "code",
   "execution_count": null,
   "metadata": {},
   "outputs": [],
   "source": []
  }
 ],
 "metadata": {
  "kernelspec": {
   "display_name": "Python 3",
   "language": "python",
   "name": "python3"
  },
  "language_info": {
   "codemirror_mode": {
    "name": "ipython",
    "version": 3
   },
   "file_extension": ".py",
   "mimetype": "text/x-python",
   "name": "python",
   "nbconvert_exporter": "python",
   "pygments_lexer": "ipython3",
   "version": "3.7.6"
  }
 },
 "nbformat": 4,
 "nbformat_minor": 4
}
