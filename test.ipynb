{
 "cells": [
  {
   "cell_type": "code",
   "execution_count": 3,
   "metadata": {},
   "outputs": [
    {
     "name": "stdout",
     "output_type": "stream",
     "text": [
      "The autoreload extension is already loaded. To reload it, use:\n",
      "  %reload_ext autoreload\n"
     ]
    }
   ],
   "source": [
    "%load_ext autoreload\n",
    "%autoreload 2"
   ]
  },
  {
   "cell_type": "code",
   "execution_count": 25,
   "metadata": {},
   "outputs": [],
   "source": [
    "import polynomial as poly\n",
    "import numpy as np"
   ]
  },
  {
   "cell_type": "code",
   "execution_count": 125,
   "metadata": {},
   "outputs": [],
   "source": [
    "a = poly.Polynomial(np.array([[2.5, 1, 1, 0], [3, 1, 0, 1], [-1, 1, 0, 1], [3, 0, 0, 2], [2, 0, 2, 0], [1, 0, 1, 1]]))"
   ]
  },
  {
   "cell_type": "code",
   "execution_count": 126,
   "metadata": {},
   "outputs": [
    {
     "data": {
      "text/plain": [
       "(3, 5, 2.0)"
      ]
     },
     "execution_count": 126,
     "metadata": {},
     "output_type": "execute_result"
    }
   ],
   "source": [
    "a.nvar, a.nterm, a.degree"
   ]
  },
  {
   "cell_type": "code",
   "execution_count": 127,
   "metadata": {},
   "outputs": [
    {
     "name": "stdout",
     "output_type": "stream",
     "text": [
      "2.5*x1^1.0*x2^1.0 + 2.0*x2^2.0 + 2.0*x1^1.0*x3^1.0 + 1.0*x2^1.0*x3^1.0 + 3.0*x3^2.0\n"
     ]
    }
   ],
   "source": [
    "print(a)"
   ]
  },
  {
   "cell_type": "code",
   "execution_count": 128,
   "metadata": {},
   "outputs": [
    {
     "data": {
      "text/plain": [
       "2.5*x1^1.0*x2^1.0"
      ]
     },
     "execution_count": 128,
     "metadata": {},
     "output_type": "execute_result"
    }
   ],
   "source": [
    "a.lt()"
   ]
  },
  {
   "cell_type": "code",
   "execution_count": 129,
   "metadata": {},
   "outputs": [],
   "source": [
    "b = poly.Polynomial(np.array([[1, 0, 0, 2], [-2, 1, 2, 1]]))"
   ]
  },
  {
   "cell_type": "code",
   "execution_count": 130,
   "metadata": {},
   "outputs": [
    {
     "data": {
      "text/plain": [
       "-2.0*x1^1.0*x2^2.0*x3^1.0 + 2.5*x1^1.0*x2^1.0 + 2.0*x2^2.0 + 2.0*x1^1.0*x3^1.0 + 1.0*x2^1.0*x3^1.0 + 4.0*x3^2.0"
      ]
     },
     "execution_count": 130,
     "metadata": {},
     "output_type": "execute_result"
    }
   ],
   "source": [
    "b.add(a)"
   ]
  },
  {
   "cell_type": "code",
   "execution_count": 131,
   "metadata": {},
   "outputs": [
    {
     "data": {
      "text/plain": [
       "-2.0*x1^1.0*x2^2.0*x3^1.0 + 2.5*x1^1.0*x2^1.0 + 2.0*x2^2.0 + 2.0*x1^1.0*x3^1.0 + 1.0*x2^1.0*x3^1.0 + 4.0*x3^2.0"
      ]
     },
     "execution_count": 131,
     "metadata": {},
     "output_type": "execute_result"
    }
   ],
   "source": [
    "a.add(b)"
   ]
  },
  {
   "cell_type": "code",
   "execution_count": 132,
   "metadata": {},
   "outputs": [
    {
     "data": {
      "text/plain": [
       "2.0*x1^1.0*x2^2.0*x3^1.0 + 2.5*x1^1.0*x2^1.0 + 2.0*x2^2.0 + 2.0*x1^1.0*x3^1.0 + 1.0*x2^1.0*x3^1.0 + 2.0*x3^2.0"
      ]
     },
     "execution_count": 132,
     "metadata": {},
     "output_type": "execute_result"
    }
   ],
   "source": [
    "a.subtract(b)"
   ]
  },
  {
   "cell_type": "code",
   "execution_count": 133,
   "metadata": {},
   "outputs": [
    {
     "data": {
      "text/plain": [
       "-2.0*x1^1.0*x2^2.0*x3^1.0 + -2.5*x1^1.0*x2^1.0 + -2.0*x2^2.0 + -2.0*x1^1.0*x3^1.0 + -1.0*x2^1.0*x3^1.0 + -2.0*x3^2.0"
      ]
     },
     "execution_count": 133,
     "metadata": {},
     "output_type": "execute_result"
    }
   ],
   "source": [
    "b.subtract(a)"
   ]
  },
  {
   "cell_type": "code",
   "execution_count": 134,
   "metadata": {},
   "outputs": [
    {
     "data": {
      "text/plain": [
       "-5.0*x1^2.0*x2^3.0*x3^1.0 + -4.0*x1^1.0*x2^4.0*x3^1.0 + -4.0*x1^2.0*x2^2.0*x3^2.0 + -2.0*x1^1.0*x2^3.0*x3^2.0 + -6.0*x1^1.0*x2^2.0*x3^3.0 + 2.5*x1^1.0*x2^1.0*x3^2.0 + 2.0*x2^2.0*x3^2.0 + 2.0*x1^1.0*x3^3.0 + 1.0*x2^1.0*x3^3.0 + 3.0*x3^4.0"
      ]
     },
     "execution_count": 134,
     "metadata": {},
     "output_type": "execute_result"
    }
   ],
   "source": [
    "a.multiply(b)"
   ]
  },
  {
   "cell_type": "code",
   "execution_count": 135,
   "metadata": {},
   "outputs": [
    {
     "data": {
      "text/plain": [
       "-5.0*x1^2.0*x2^3.0*x3^1.0 + -4.0*x1^1.0*x2^4.0*x3^1.0 + -4.0*x1^2.0*x2^2.0*x3^2.0 + -2.0*x1^1.0*x2^3.0*x3^2.0 + -6.0*x1^1.0*x2^2.0*x3^3.0 + 2.5*x1^1.0*x2^1.0*x3^2.0 + 2.0*x2^2.0*x3^2.0 + 2.0*x1^1.0*x3^3.0 + 1.0*x2^1.0*x3^3.0 + 3.0*x3^4.0"
      ]
     },
     "execution_count": 135,
     "metadata": {},
     "output_type": "execute_result"
    }
   ],
   "source": [
    "b.multiply(a)"
   ]
  },
  {
   "cell_type": "code",
   "execution_count": 136,
   "metadata": {},
   "outputs": [],
   "source": [
    "c = poly.Polynomial(np.array([[1, 1, 0]]))\n",
    "d = poly.Polynomial(np.array([[1, 0, 1]]))"
   ]
  },
  {
   "cell_type": "code",
   "execution_count": 137,
   "metadata": {},
   "outputs": [
    {
     "data": {
      "text/plain": [
       "1*x1^2 + -1*x2^2"
      ]
     },
     "execution_count": 137,
     "metadata": {},
     "output_type": "execute_result"
    }
   ],
   "source": [
    "(c.add(d)).multiply(c.subtract(d))"
   ]
  },
  {
   "cell_type": "code",
   "execution_count": 155,
   "metadata": {},
   "outputs": [],
   "source": [
    "e = poly.Polynomial(np.array([[0, 1, 1], [0, 2, 3]]))"
   ]
  },
  {
   "cell_type": "code",
   "execution_count": 157,
   "metadata": {},
   "outputs": [
    {
     "data": {
      "text/plain": [
       "1.0*x1^1.0"
      ]
     },
     "execution_count": 157,
     "metadata": {},
     "output_type": "execute_result"
    }
   ],
   "source": [
    "e.add(c)"
   ]
  },
  {
   "cell_type": "code",
   "execution_count": 158,
   "metadata": {},
   "outputs": [
    {
     "data": {
      "text/plain": [
       "0"
      ]
     },
     "execution_count": 158,
     "metadata": {},
     "output_type": "execute_result"
    }
   ],
   "source": [
    "e.multiply(c)"
   ]
  },
  {
   "cell_type": "code",
   "execution_count": 160,
   "metadata": {},
   "outputs": [
    {
     "data": {
      "text/plain": [
       "1.0*x1^1.0"
      ]
     },
     "execution_count": 160,
     "metadata": {},
     "output_type": "execute_result"
    }
   ],
   "source": [
    "c.add(e)"
   ]
  },
  {
   "cell_type": "code",
   "execution_count": 162,
   "metadata": {},
   "outputs": [
    {
     "data": {
      "text/plain": [
       "0"
      ]
     },
     "execution_count": 162,
     "metadata": {},
     "output_type": "execute_result"
    }
   ],
   "source": [
    "c.multiply(e)"
   ]
  },
  {
   "cell_type": "code",
   "execution_count": null,
   "metadata": {},
   "outputs": [],
   "source": []
  }
 ],
 "metadata": {
  "kernelspec": {
   "display_name": "Python 3",
   "language": "python",
   "name": "python3"
  },
  "language_info": {
   "codemirror_mode": {
    "name": "ipython",
    "version": 3
   },
   "file_extension": ".py",
   "mimetype": "text/x-python",
   "name": "python",
   "nbconvert_exporter": "python",
   "pygments_lexer": "ipython3",
   "version": "3.7.6"
  }
 },
 "nbformat": 4,
 "nbformat_minor": 4
}
