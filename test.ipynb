{
 "cells": [
  {
   "cell_type": "code",
   "execution_count": 1,
   "metadata": {},
   "outputs": [],
   "source": [
    "%load_ext autoreload\n",
    "%autoreload 2"
   ]
  },
  {
   "cell_type": "code",
   "execution_count": 2,
   "metadata": {},
   "outputs": [],
   "source": [
    "import polynomial as poly\n",
    "import numpy as np\n",
    "import reduction as rd\n",
    "import buchberger as buch"
   ]
  },
  {
   "cell_type": "code",
   "execution_count": 3,
   "metadata": {},
   "outputs": [],
   "source": [
    "a = poly.Polynomial(np.array([[2.5, 1, 1, 0], [3, 1, 0, 1], [-1, 1, 0, 1], [3, 0, 0, 2], [2, 0, 2, 0], [1, 0, 1, 1]]))\n",
    "b = poly.Polynomial(np.array([[1, 0, 0, 2], [-2, 1, 2, 1]]))"
   ]
  },
  {
   "cell_type": "code",
   "execution_count": 4,
   "metadata": {},
   "outputs": [
    {
     "data": {
      "text/plain": [
       "(3, 5, 2.0)"
      ]
     },
     "execution_count": 4,
     "metadata": {},
     "output_type": "execute_result"
    }
   ],
   "source": [
    "a.nvar, a.nterm, a.degree"
   ]
  },
  {
   "cell_type": "code",
   "execution_count": 5,
   "metadata": {},
   "outputs": [
    {
     "name": "stdout",
     "output_type": "stream",
     "text": [
      "2.5*x1^1.0*x2^1.0 + 2.0*x2^2.0 + 2.0*x1^1.0*x3^1.0 + 1.0*x2^1.0*x3^1.0 + 3.0*x3^2.0\n"
     ]
    }
   ],
   "source": [
    "print(a)"
   ]
  },
  {
   "cell_type": "code",
   "execution_count": 6,
   "metadata": {},
   "outputs": [
    {
     "data": {
      "text/plain": [
       "2.5*x1^1.0*x2^1.0"
      ]
     },
     "execution_count": 6,
     "metadata": {},
     "output_type": "execute_result"
    }
   ],
   "source": [
    "a.lt()"
   ]
  },
  {
   "cell_type": "code",
   "execution_count": 7,
   "metadata": {},
   "outputs": [
    {
     "data": {
      "text/plain": [
       "-2*x1^1*x2^2*x3^1"
      ]
     },
     "execution_count": 7,
     "metadata": {},
     "output_type": "execute_result"
    }
   ],
   "source": [
    "b.lt()"
   ]
  },
  {
   "cell_type": "code",
   "execution_count": 8,
   "metadata": {},
   "outputs": [
    {
     "data": {
      "text/plain": [
       "-2.0*x1^1.0*x2^2.0*x3^1.0 + 2.5*x1^1.0*x2^1.0 + 2.0*x2^2.0 + 2.0*x1^1.0*x3^1.0 + 1.0*x2^1.0*x3^1.0 + 4.0*x3^2.0"
      ]
     },
     "execution_count": 8,
     "metadata": {},
     "output_type": "execute_result"
    }
   ],
   "source": [
    "b.add(a)"
   ]
  },
  {
   "cell_type": "code",
   "execution_count": 9,
   "metadata": {},
   "outputs": [
    {
     "data": {
      "text/plain": [
       "-2.0*x1^1.0*x2^2.0*x3^1.0 + 2.5*x1^1.0*x2^1.0 + 2.0*x2^2.0 + 2.0*x1^1.0*x3^1.0 + 1.0*x2^1.0*x3^1.0 + 4.0*x3^2.0"
      ]
     },
     "execution_count": 9,
     "metadata": {},
     "output_type": "execute_result"
    }
   ],
   "source": [
    "a.add(b)"
   ]
  },
  {
   "cell_type": "code",
   "execution_count": 10,
   "metadata": {},
   "outputs": [
    {
     "data": {
      "text/plain": [
       "2.0*x1^1.0*x2^2.0*x3^1.0 + 2.5*x1^1.0*x2^1.0 + 2.0*x2^2.0 + 2.0*x1^1.0*x3^1.0 + 1.0*x2^1.0*x3^1.0 + 2.0*x3^2.0"
      ]
     },
     "execution_count": 10,
     "metadata": {},
     "output_type": "execute_result"
    }
   ],
   "source": [
    "a.subtract(b)"
   ]
  },
  {
   "cell_type": "code",
   "execution_count": 11,
   "metadata": {},
   "outputs": [
    {
     "data": {
      "text/plain": [
       "-2.0*x1^1.0*x2^2.0*x3^1.0 + -2.5*x1^1.0*x2^1.0 + -2.0*x2^2.0 + -2.0*x1^1.0*x3^1.0 + -1.0*x2^1.0*x3^1.0 + -2.0*x3^2.0"
      ]
     },
     "execution_count": 11,
     "metadata": {},
     "output_type": "execute_result"
    }
   ],
   "source": [
    "b.subtract(a)"
   ]
  },
  {
   "cell_type": "code",
   "execution_count": 12,
   "metadata": {},
   "outputs": [
    {
     "data": {
      "text/plain": [
       "-5.0*x1^2.0*x2^3.0*x3^1.0 + -4.0*x1^1.0*x2^4.0*x3^1.0 + -4.0*x1^2.0*x2^2.0*x3^2.0 + -2.0*x1^1.0*x2^3.0*x3^2.0 + -6.0*x1^1.0*x2^2.0*x3^3.0 + 2.5*x1^1.0*x2^1.0*x3^2.0 + 2.0*x2^2.0*x3^2.0 + 2.0*x1^1.0*x3^3.0 + 1.0*x2^1.0*x3^3.0 + 3.0*x3^4.0"
      ]
     },
     "execution_count": 12,
     "metadata": {},
     "output_type": "execute_result"
    }
   ],
   "source": [
    "a.multiply(b)"
   ]
  },
  {
   "cell_type": "code",
   "execution_count": 13,
   "metadata": {},
   "outputs": [
    {
     "data": {
      "text/plain": [
       "-5.0*x1^2.0*x2^3.0*x3^1.0 + -4.0*x1^1.0*x2^4.0*x3^1.0 + -4.0*x1^2.0*x2^2.0*x3^2.0 + -2.0*x1^1.0*x2^3.0*x3^2.0 + -6.0*x1^1.0*x2^2.0*x3^3.0 + 2.5*x1^1.0*x2^1.0*x3^2.0 + 2.0*x2^2.0*x3^2.0 + 2.0*x1^1.0*x3^3.0 + 1.0*x2^1.0*x3^3.0 + 3.0*x3^4.0"
      ]
     },
     "execution_count": 13,
     "metadata": {},
     "output_type": "execute_result"
    }
   ],
   "source": [
    "b.multiply(a)"
   ]
  },
  {
   "cell_type": "code",
   "execution_count": 14,
   "metadata": {},
   "outputs": [],
   "source": [
    "c = poly.Polynomial(np.array([[1, 1, 0]]))\n",
    "d = poly.Polynomial(np.array([[1, 0, 1]]))"
   ]
  },
  {
   "cell_type": "code",
   "execution_count": 15,
   "metadata": {},
   "outputs": [
    {
     "data": {
      "text/plain": [
       "1*x1^2 + -1*x2^2"
      ]
     },
     "execution_count": 15,
     "metadata": {},
     "output_type": "execute_result"
    }
   ],
   "source": [
    "(c.add(d)).multiply(c.subtract(d))"
   ]
  },
  {
   "cell_type": "code",
   "execution_count": 16,
   "metadata": {},
   "outputs": [],
   "source": [
    "e = poly.Polynomial(np.array([[0, 1, 1], [0, 2, 3]]))"
   ]
  },
  {
   "cell_type": "code",
   "execution_count": 17,
   "metadata": {},
   "outputs": [
    {
     "data": {
      "text/plain": [
       "1.0*x1^1.0"
      ]
     },
     "execution_count": 17,
     "metadata": {},
     "output_type": "execute_result"
    }
   ],
   "source": [
    "e.add(c)"
   ]
  },
  {
   "cell_type": "code",
   "execution_count": 18,
   "metadata": {},
   "outputs": [
    {
     "data": {
      "text/plain": [
       "0"
      ]
     },
     "execution_count": 18,
     "metadata": {},
     "output_type": "execute_result"
    }
   ],
   "source": [
    "e.multiply(c)"
   ]
  },
  {
   "cell_type": "code",
   "execution_count": 19,
   "metadata": {},
   "outputs": [
    {
     "data": {
      "text/plain": [
       "1.0*x1^1.0"
      ]
     },
     "execution_count": 19,
     "metadata": {},
     "output_type": "execute_result"
    }
   ],
   "source": [
    "c.add(e)"
   ]
  },
  {
   "cell_type": "code",
   "execution_count": 20,
   "metadata": {},
   "outputs": [
    {
     "data": {
      "text/plain": [
       "0"
      ]
     },
     "execution_count": 20,
     "metadata": {},
     "output_type": "execute_result"
    }
   ],
   "source": [
    "c.multiply(e)"
   ]
  },
  {
   "cell_type": "code",
   "execution_count": 21,
   "metadata": {},
   "outputs": [
    {
     "data": {
      "text/plain": [
       "0"
      ]
     },
     "execution_count": 21,
     "metadata": {},
     "output_type": "execute_result"
    }
   ],
   "source": [
    "a.subtract(a)"
   ]
  },
  {
   "cell_type": "code",
   "execution_count": 22,
   "metadata": {},
   "outputs": [
    {
     "data": {
      "text/plain": [
       "5.0*x1^1.0*x2^1.0 + 4.0*x2^2.0 + 4.0*x1^1.0*x3^1.0 + 2.0*x2^1.0*x3^1.0 + 6.0*x3^2.0"
      ]
     },
     "execution_count": 22,
     "metadata": {},
     "output_type": "execute_result"
    }
   ],
   "source": [
    "a.scalar_multiply(2)"
   ]
  },
  {
   "cell_type": "code",
   "execution_count": 23,
   "metadata": {},
   "outputs": [
    {
     "data": {
      "text/plain": [
       "0"
      ]
     },
     "execution_count": 23,
     "metadata": {},
     "output_type": "execute_result"
    }
   ],
   "source": [
    "a.scalar_multiply(0)"
   ]
  },
  {
   "cell_type": "code",
   "execution_count": 24,
   "metadata": {},
   "outputs": [
    {
     "data": {
      "text/plain": [
       "False"
      ]
     },
     "execution_count": 24,
     "metadata": {},
     "output_type": "execute_result"
    }
   ],
   "source": [
    "c.divide(d)"
   ]
  },
  {
   "cell_type": "code",
   "execution_count": 25,
   "metadata": {},
   "outputs": [
    {
     "data": {
      "text/plain": [
       "0"
      ]
     },
     "execution_count": 25,
     "metadata": {},
     "output_type": "execute_result"
    }
   ],
   "source": [
    "e.divide(d)"
   ]
  },
  {
   "cell_type": "code",
   "execution_count": 26,
   "metadata": {},
   "outputs": [],
   "source": [
    "f = poly.Polynomial(np.array([[4, 3, 2]]))\n",
    "g = poly.Polynomial(np.array([[3, 1, 2]]))"
   ]
  },
  {
   "cell_type": "code",
   "execution_count": 27,
   "metadata": {},
   "outputs": [
    {
     "data": {
      "text/plain": [
       "1.3333333333333333*x1^2.0"
      ]
     },
     "execution_count": 27,
     "metadata": {},
     "output_type": "execute_result"
    }
   ],
   "source": [
    "f.divide(g)"
   ]
  },
  {
   "cell_type": "code",
   "execution_count": 28,
   "metadata": {},
   "outputs": [],
   "source": [
    "h = poly.Polynomial(np.array([[-1, 4, 0], [1, 0, 5]]))\n",
    "q = poly.Polynomial(np.array([[1, 1, 0], [1, 0, 3]]))"
   ]
  },
  {
   "cell_type": "code",
   "execution_count": 29,
   "metadata": {},
   "outputs": [
    {
     "data": {
      "text/plain": [
       "0"
      ]
     },
     "execution_count": 29,
     "metadata": {},
     "output_type": "execute_result"
    }
   ],
   "source": [
    "rd.reduce(h, h)"
   ]
  },
  {
   "cell_type": "code",
   "execution_count": 30,
   "metadata": {},
   "outputs": [
    {
     "data": {
      "text/plain": [
       "-1.0*x1^4.0 + -1.0*x1^1.0*x2^2.0"
      ]
     },
     "execution_count": 30,
     "metadata": {},
     "output_type": "execute_result"
    }
   ],
   "source": [
    "rd.reduce(h, q)"
   ]
  },
  {
   "cell_type": "code",
   "execution_count": 31,
   "metadata": {},
   "outputs": [],
   "source": [
    "f1 = poly.Polynomial(np.array([[1, 3, 0], [1, 0, 2]]))\n",
    "f2 = poly.Polynomial(np.array([[1, 2, 1], [-1, 0, 0]]))"
   ]
  },
  {
   "cell_type": "code",
   "execution_count": 32,
   "metadata": {},
   "outputs": [
    {
     "data": {
      "text/plain": [
       "1*x2^3 + 1*x1^1"
      ]
     },
     "execution_count": 32,
     "metadata": {},
     "output_type": "execute_result"
    }
   ],
   "source": [
    "rd.reduce_lst(q, [f1, f2])"
   ]
  },
  {
   "cell_type": "code",
   "execution_count": 33,
   "metadata": {},
   "outputs": [
    {
     "data": {
      "text/plain": [
       "0"
      ]
     },
     "execution_count": 33,
     "metadata": {},
     "output_type": "execute_result"
    }
   ],
   "source": [
    "rd.reduce_lst(e, [f1, f2])"
   ]
  },
  {
   "cell_type": "code",
   "execution_count": 34,
   "metadata": {},
   "outputs": [
    {
     "data": {
      "text/plain": [
       "-6"
      ]
     },
     "execution_count": 34,
     "metadata": {},
     "output_type": "execute_result"
    }
   ],
   "source": [
    "poly.Polynomial(np.array([[3, 0, 0]])).multiply(poly.Polynomial(np.array([[-2, 0, 0]])))"
   ]
  },
  {
   "cell_type": "code",
   "execution_count": 35,
   "metadata": {},
   "outputs": [
    {
     "data": {
      "text/plain": [
       "4*x1^3*x2^2"
      ]
     },
     "execution_count": 35,
     "metadata": {},
     "output_type": "execute_result"
    }
   ],
   "source": [
    "f.lcm(g)"
   ]
  },
  {
   "cell_type": "code",
   "execution_count": 36,
   "metadata": {},
   "outputs": [],
   "source": [
    "r = poly.Polynomial(np.array([[1, 1, 0], [1, 0, 3]]))"
   ]
  },
  {
   "cell_type": "code",
   "execution_count": 37,
   "metadata": {},
   "outputs": [
    {
     "data": {
      "text/plain": [
       "1.0*x2^5.0 + -1.0*x1^4.0"
      ]
     },
     "execution_count": 37,
     "metadata": {},
     "output_type": "execute_result"
    }
   ],
   "source": [
    "rd.S(f1, r)"
   ]
  },
  {
   "cell_type": "code",
   "execution_count": 43,
   "metadata": {},
   "outputs": [
    {
     "name": "stdout",
     "output_type": "stream",
     "text": [
      "------------------\n",
      "Iteration 1:\n",
      "The choice of pair is 1*x1^2*x2^1 + -1 and 1*x1^3 + 1*x2^2\n",
      "r is -1.0*x2^3.0 + -1.0*x1^1.0\n",
      "Total number of additions is 1\n",
      "------------------\n",
      "Iteration 2:\n",
      "The choice of pair is 1*x1^2*x2^1 + -1 and -1.0*x2^3.0 + -1.0*x1^1.0\n",
      "r is 0\n",
      "Total number of additions is 3\n",
      "------------------\n",
      "Iteration 3:\n",
      "The choice of pair is 1*x1^3 + 1*x2^2 and -1.0*x2^3.0 + -1.0*x1^1.0\n",
      "r is 0\n",
      "Total number of additions is 6\n",
      "------------------\n"
     ]
    },
    {
     "data": {
      "text/plain": [
       "[1*x1^2*x2^1 + -1, 1*x1^3 + 1*x2^2, -1.0*x2^3.0 + -1.0*x1^1.0]"
      ]
     },
     "execution_count": 43,
     "metadata": {},
     "output_type": "execute_result"
    }
   ],
   "source": [
    "buch.buchberger_random([f1, f2])"
   ]
  },
  {
   "cell_type": "code",
   "execution_count": 45,
   "metadata": {},
   "outputs": [
    {
     "name": "stdout",
     "output_type": "stream",
     "text": [
      "------------------\n",
      "Iteration 1:\n",
      "The choice of pair is 1*x1^2*x2^1 + -1 and 1*x1^3 + 1*x2^2\n",
      "r is -1.0*x2^3.0 + -1.0*x1^1.0\n",
      "Total number of additions is 1\n",
      "------------------\n",
      "Iteration 2:\n",
      "The choice of pair is 1*x1^3 + 1*x2^2 and -1.0*x2^3.0 + -1.0*x1^1.0\n",
      "r is 0\n",
      "Total number of additions is 4\n",
      "------------------\n",
      "Iteration 3:\n",
      "The choice of pair is 1*x1^2*x2^1 + -1 and -1.0*x2^3.0 + -1.0*x1^1.0\n",
      "r is 0\n",
      "Total number of additions is 6\n",
      "------------------\n"
     ]
    },
    {
     "data": {
      "text/plain": [
       "[1*x1^2*x2^1 + -1, 1*x1^3 + 1*x2^2, -1.0*x2^3.0 + -1.0*x1^1.0]"
      ]
     },
     "execution_count": 45,
     "metadata": {},
     "output_type": "execute_result"
    }
   ],
   "source": [
    "buch.buchberger_first([f1, f2])"
   ]
  },
  {
   "cell_type": "code",
   "execution_count": 46,
   "metadata": {},
   "outputs": [
    {
     "name": "stdout",
     "output_type": "stream",
     "text": [
      "------------------\n",
      "Iteration 1:\n",
      "The choice of pair is 1*x1^2*x2^1 + -1 and 1*x1^3 + 1*x2^2\n",
      "r is -1.0*x2^3.0 + -1.0*x1^1.0\n",
      "Total number of additions is 1\n",
      "------------------\n",
      "Iteration 2:\n",
      "The choice of pair is 1*x1^2*x2^1 + -1 and -1.0*x2^3.0 + -1.0*x1^1.0\n",
      "r is 0\n",
      "Total number of additions is 3\n",
      "------------------\n",
      "Iteration 3:\n",
      "The choice of pair is -1.0*x2^3.0 + -1.0*x1^1.0 and 1*x1^3 + 1*x2^2\n",
      "r is 0\n",
      "Total number of additions is 6\n",
      "------------------\n"
     ]
    },
    {
     "data": {
      "text/plain": [
       "[1*x1^2*x2^1 + -1, 1*x1^3 + 1*x2^2, -1.0*x2^3.0 + -1.0*x1^1.0]"
      ]
     },
     "execution_count": 46,
     "metadata": {},
     "output_type": "execute_result"
    }
   ],
   "source": [
    "buch.buchberger_degree([f1, f2])"
   ]
  },
  {
   "cell_type": "code",
   "execution_count": 47,
   "metadata": {},
   "outputs": [],
   "source": [
    "f3 = poly.Polynomial(np.array([[1, 3, 0], [1, 0, 3], [-5, 0, 0]]))\n",
    "f4 = poly.Polynomial(np.array([[1, 2, 0], [1, 0, 2], [-3, 0, 0]]))"
   ]
  },
  {
   "cell_type": "code",
   "execution_count": 53,
   "metadata": {},
   "outputs": [
    {
     "name": "stdout",
     "output_type": "stream",
     "text": [
      "------------------\n",
      "Iteration 1:\n",
      "The choice of pair is 1*x1^3 + 1*x2^3 + -5 and 1*x1^2 + 1*x2^2 + -3\n",
      "r is -1.0*x1^1.0*x2^2.0 + 1.0*x2^3.0 + 3.0*x1^1.0 + -5.0\n",
      "Total number of additions is 1\n",
      "------------------\n",
      "Iteration 2:\n",
      "The choice of pair is 1*x1^3 + 1*x2^3 + -5 and -1.0*x1^1.0*x2^2.0 + 1.0*x2^3.0 + 3.0*x1^1.0 + -5.0\n",
      "r is 2.0*x2^5.0 + 3.0*x1^3.0 + 3.0*x1^2.0*x2^1.0 + 3.0*x1^1.0*x2^2.0 + -5.0*x1^2.0 + -5.0*x1^1.0*x2^1.0 + -10.0*x2^2.0\n",
      "Total number of additions is 4\n",
      "------------------\n",
      "Iteration 3:\n",
      "The choice of pair is 1*x1^3 + 1*x2^3 + -5 and 2.0*x2^5.0 + 3.0*x1^3.0 + 3.0*x1^2.0*x2^1.0 + 3.0*x1^1.0*x2^2.0 + -5.0*x1^2.0 + -5.0*x1^1.0*x2^1.0 + -10.0*x2^2.0\n",
      "r is 0\n",
      "Total number of additions is 20\n",
      "------------------\n",
      "Iteration 4:\n",
      "The choice of pair is -1.0*x1^1.0*x2^2.0 + 1.0*x2^3.0 + 3.0*x1^1.0 + -5.0 and 2.0*x2^5.0 + 3.0*x1^3.0 + 3.0*x1^2.0*x2^1.0 + 3.0*x1^1.0*x2^2.0 + -5.0*x1^2.0 + -5.0*x1^1.0*x2^1.0 + -10.0*x2^2.0\n",
      "r is 0\n",
      "Total number of additions is 24\n",
      "------------------\n",
      "Iteration 5:\n",
      "The choice of pair is -1.0*x1^1.0*x2^2.0 + 1.0*x2^3.0 + 3.0*x1^1.0 + -5.0 and 1*x1^2 + 1*x2^2 + -3\n",
      "r is -2.0*x2^4.0 + -3.0*x1^2.0 + -3.0*x1^1.0*x2^1.0 + 3.0*x2^2.0 + 5.0*x1^1.0 + 5.0*x2^1.0\n",
      "Total number of additions is 26\n",
      "------------------\n",
      "Iteration 6:\n",
      "The choice of pair is 2.0*x2^5.0 + 3.0*x1^3.0 + 3.0*x1^2.0*x2^1.0 + 3.0*x1^1.0*x2^2.0 + -5.0*x1^2.0 + -5.0*x1^1.0*x2^1.0 + -10.0*x2^2.0 and -2.0*x2^4.0 + -3.0*x1^2.0 + -3.0*x1^1.0*x2^1.0 + 3.0*x2^2.0 + 5.0*x1^1.0 + 5.0*x2^1.0\n",
      "r is 0\n",
      "Total number of additions is 29\n",
      "------------------\n",
      "Iteration 7:\n",
      "The choice of pair is 1*x1^2 + 1*x2^2 + -3 and -2.0*x2^4.0 + -3.0*x1^2.0 + -3.0*x1^1.0*x2^1.0 + 3.0*x2^2.0 + 5.0*x1^1.0 + 5.0*x2^1.0\n",
      "r is 0\n",
      "Total number of additions is 38\n",
      "------------------\n",
      "Iteration 8:\n",
      "The choice of pair is 2.0*x2^5.0 + 3.0*x1^3.0 + 3.0*x1^2.0*x2^1.0 + 3.0*x1^1.0*x2^2.0 + -5.0*x1^2.0 + -5.0*x1^1.0*x2^1.0 + -10.0*x2^2.0 and 1*x1^2 + 1*x2^2 + -3\n",
      "r is 0\n",
      "Total number of additions is 48\n",
      "------------------\n",
      "Iteration 9:\n",
      "The choice of pair is 1*x1^3 + 1*x2^3 + -5 and -2.0*x2^4.0 + -3.0*x1^2.0 + -3.0*x1^1.0*x2^1.0 + 3.0*x2^2.0 + 5.0*x1^1.0 + 5.0*x2^1.0\n",
      "r is 0\n",
      "Total number of additions is 60\n",
      "------------------\n",
      "Iteration 10:\n",
      "The choice of pair is -1.0*x1^1.0*x2^2.0 + 1.0*x2^3.0 + 3.0*x1^1.0 + -5.0 and -2.0*x2^4.0 + -3.0*x1^2.0 + -3.0*x1^1.0*x2^1.0 + 3.0*x2^2.0 + 5.0*x1^1.0 + 5.0*x2^1.0\n",
      "r is 0\n",
      "Total number of additions is 65\n",
      "------------------\n"
     ]
    },
    {
     "data": {
      "text/plain": [
       "([2.0*x2^5.0 + 3.0*x1^3.0 + 3.0*x1^2.0*x2^1.0 + 3.0*x1^1.0*x2^2.0 + -5.0*x1^2.0 + -5.0*x1^1.0*x2^1.0 + -10.0*x2^2.0,\n",
       "  1*x1^2 + 1*x2^2 + -3,\n",
       "  1*x1^3 + 1*x2^3 + -5,\n",
       "  -1.0*x1^1.0*x2^2.0 + 1.0*x2^3.0 + 3.0*x1^1.0 + -5.0,\n",
       "  -2.0*x2^4.0 + -3.0*x1^2.0 + -3.0*x1^1.0*x2^1.0 + 3.0*x2^2.0 + 5.0*x1^1.0 + 5.0*x2^1.0],\n",
       " 65)"
      ]
     },
     "execution_count": 53,
     "metadata": {},
     "output_type": "execute_result"
    }
   ],
   "source": [
    "buch.buchberger_random([f3, f4])"
   ]
  },
  {
   "cell_type": "code",
   "execution_count": 54,
   "metadata": {},
   "outputs": [
    {
     "name": "stdout",
     "output_type": "stream",
     "text": [
      "------------------\n",
      "Iteration 1:\n",
      "The choice of pair is 1*x1^3 + 1*x2^3 + -5 and 1*x1^2 + 1*x2^2 + -3\n",
      "r is -1.0*x1^1.0*x2^2.0 + 1.0*x2^3.0 + 3.0*x1^1.0 + -5.0\n",
      "Total number of additions is 1\n",
      "------------------\n",
      "Iteration 2:\n",
      "The choice of pair is 1*x1^3 + 1*x2^3 + -5 and -1.0*x1^1.0*x2^2.0 + 1.0*x2^3.0 + 3.0*x1^1.0 + -5.0\n",
      "r is 2.0*x2^5.0 + 3.0*x1^3.0 + 3.0*x1^2.0*x2^1.0 + 3.0*x1^1.0*x2^2.0 + -5.0*x1^2.0 + -5.0*x1^1.0*x2^1.0 + -10.0*x2^2.0\n",
      "Total number of additions is 4\n",
      "------------------\n",
      "Iteration 3:\n",
      "The choice of pair is -1.0*x1^1.0*x2^2.0 + 1.0*x2^3.0 + 3.0*x1^1.0 + -5.0 and 1*x1^2 + 1*x2^2 + -3\n",
      "r is -2.0*x2^4.0 + -3.0*x1^2.0 + -3.0*x1^1.0*x2^1.0 + 3.0*x2^2.0 + 5.0*x1^1.0 + 5.0*x2^1.0\n",
      "Total number of additions is 6\n",
      "------------------\n",
      "Iteration 4:\n",
      "The choice of pair is 1*x1^3 + 1*x2^3 + -5 and 2.0*x2^5.0 + 3.0*x1^3.0 + 3.0*x1^2.0*x2^1.0 + 3.0*x1^1.0*x2^2.0 + -5.0*x1^2.0 + -5.0*x1^1.0*x2^1.0 + -10.0*x2^2.0\n",
      "r is 0\n",
      "Total number of additions is 23\n",
      "------------------\n",
      "Iteration 5:\n",
      "The choice of pair is -1.0*x1^1.0*x2^2.0 + 1.0*x2^3.0 + 3.0*x1^1.0 + -5.0 and 2.0*x2^5.0 + 3.0*x1^3.0 + 3.0*x1^2.0*x2^1.0 + 3.0*x1^1.0*x2^2.0 + -5.0*x1^2.0 + -5.0*x1^1.0*x2^1.0 + -10.0*x2^2.0\n",
      "r is 0\n",
      "Total number of additions is 30\n",
      "------------------\n",
      "Iteration 6:\n",
      "The choice of pair is 2.0*x2^5.0 + 3.0*x1^3.0 + 3.0*x1^2.0*x2^1.0 + 3.0*x1^1.0*x2^2.0 + -5.0*x1^2.0 + -5.0*x1^1.0*x2^1.0 + -10.0*x2^2.0 and 1*x1^2 + 1*x2^2 + -3\n",
      "r is 0\n",
      "Total number of additions is 41\n",
      "------------------\n",
      "Iteration 7:\n",
      "The choice of pair is 1*x1^3 + 1*x2^3 + -5 and -2.0*x2^4.0 + -3.0*x1^2.0 + -3.0*x1^1.0*x2^1.0 + 3.0*x2^2.0 + 5.0*x1^1.0 + 5.0*x2^1.0\n",
      "r is 0\n",
      "Total number of additions is 52\n",
      "------------------\n",
      "Iteration 8:\n",
      "The choice of pair is -1.0*x1^1.0*x2^2.0 + 1.0*x2^3.0 + 3.0*x1^1.0 + -5.0 and -2.0*x2^4.0 + -3.0*x1^2.0 + -3.0*x1^1.0*x2^1.0 + 3.0*x2^2.0 + 5.0*x1^1.0 + 5.0*x2^1.0\n",
      "r is 0\n",
      "Total number of additions is 54\n",
      "------------------\n",
      "Iteration 9:\n",
      "The choice of pair is 1*x1^2 + 1*x2^2 + -3 and -2.0*x2^4.0 + -3.0*x1^2.0 + -3.0*x1^1.0*x2^1.0 + 3.0*x2^2.0 + 5.0*x1^1.0 + 5.0*x2^1.0\n",
      "r is 0\n",
      "Total number of additions is 64\n",
      "------------------\n",
      "Iteration 10:\n",
      "The choice of pair is 2.0*x2^5.0 + 3.0*x1^3.0 + 3.0*x1^2.0*x2^1.0 + 3.0*x1^1.0*x2^2.0 + -5.0*x1^2.0 + -5.0*x1^1.0*x2^1.0 + -10.0*x2^2.0 and -2.0*x2^4.0 + -3.0*x1^2.0 + -3.0*x1^1.0*x2^1.0 + 3.0*x2^2.0 + 5.0*x1^1.0 + 5.0*x2^1.0\n",
      "r is 0\n",
      "Total number of additions is 67\n",
      "------------------\n"
     ]
    },
    {
     "data": {
      "text/plain": [
       "([2.0*x2^5.0 + 3.0*x1^3.0 + 3.0*x1^2.0*x2^1.0 + 3.0*x1^1.0*x2^2.0 + -5.0*x1^2.0 + -5.0*x1^1.0*x2^1.0 + -10.0*x2^2.0,\n",
       "  1*x1^2 + 1*x2^2 + -3,\n",
       "  1*x1^3 + 1*x2^3 + -5,\n",
       "  -1.0*x1^1.0*x2^2.0 + 1.0*x2^3.0 + 3.0*x1^1.0 + -5.0,\n",
       "  -2.0*x2^4.0 + -3.0*x1^2.0 + -3.0*x1^1.0*x2^1.0 + 3.0*x2^2.0 + 5.0*x1^1.0 + 5.0*x2^1.0],\n",
       " 67)"
      ]
     },
     "execution_count": 54,
     "metadata": {},
     "output_type": "execute_result"
    }
   ],
   "source": [
    "buch.buchberger_first([f3, f4])"
   ]
  },
  {
   "cell_type": "code",
   "execution_count": 55,
   "metadata": {},
   "outputs": [
    {
     "name": "stdout",
     "output_type": "stream",
     "text": [
      "------------------\n",
      "Iteration 1:\n",
      "The choice of pair is 1*x1^3 + 1*x2^3 + -5 and 1*x1^2 + 1*x2^2 + -3\n",
      "r is -1.0*x1^1.0*x2^2.0 + 1.0*x2^3.0 + 3.0*x1^1.0 + -5.0\n",
      "Total number of additions is 1\n",
      "------------------\n",
      "Iteration 2:\n",
      "The choice of pair is -1.0*x1^1.0*x2^2.0 + 1.0*x2^3.0 + 3.0*x1^1.0 + -5.0 and 1*x1^2 + 1*x2^2 + -3\n",
      "r is -2.0*x2^4.0 + -3.0*x1^2.0 + -3.0*x1^1.0*x2^1.0 + 3.0*x2^2.0 + 5.0*x1^1.0 + 5.0*x2^1.0\n",
      "Total number of additions is 3\n",
      "------------------\n",
      "Iteration 3:\n",
      "The choice of pair is 1*x1^3 + 1*x2^3 + -5 and -1.0*x1^1.0*x2^2.0 + 1.0*x2^3.0 + 3.0*x1^1.0 + -5.0\n",
      "r is 0\n",
      "Total number of additions is 9\n",
      "------------------\n",
      "Iteration 4:\n",
      "The choice of pair is -2.0*x2^4.0 + -3.0*x1^2.0 + -3.0*x1^1.0*x2^1.0 + 3.0*x2^2.0 + 5.0*x1^1.0 + 5.0*x2^1.0 and -1.0*x1^1.0*x2^2.0 + 1.0*x2^3.0 + 3.0*x1^1.0 + -5.0\n",
      "r is 0\n",
      "Total number of additions is 13\n",
      "------------------\n",
      "Iteration 5:\n",
      "The choice of pair is -2.0*x2^4.0 + -3.0*x1^2.0 + -3.0*x1^1.0*x2^1.0 + 3.0*x2^2.0 + 5.0*x1^1.0 + 5.0*x2^1.0 and 1*x1^2 + 1*x2^2 + -3\n",
      "r is 0\n",
      "Total number of additions is 22\n",
      "------------------\n",
      "Iteration 6:\n",
      "The choice of pair is 1*x1^3 + 1*x2^3 + -5 and -2.0*x2^4.0 + -3.0*x1^2.0 + -3.0*x1^1.0*x2^1.0 + 3.0*x2^2.0 + 5.0*x1^1.0 + 5.0*x2^1.0\n",
      "r is 0\n",
      "Total number of additions is 36\n",
      "------------------\n"
     ]
    },
    {
     "data": {
      "text/plain": [
       "([1*x1^3 + 1*x2^3 + -5,\n",
       "  -1.0*x1^1.0*x2^2.0 + 1.0*x2^3.0 + 3.0*x1^1.0 + -5.0,\n",
       "  -2.0*x2^4.0 + -3.0*x1^2.0 + -3.0*x1^1.0*x2^1.0 + 3.0*x2^2.0 + 5.0*x1^1.0 + 5.0*x2^1.0,\n",
       "  1*x1^2 + 1*x2^2 + -3],\n",
       " 36)"
      ]
     },
     "execution_count": 55,
     "metadata": {},
     "output_type": "execute_result"
    }
   ],
   "source": [
    "buch.buchberger_degree([f3, f4])"
   ]
  },
  {
   "cell_type": "code",
   "execution_count": 130,
   "metadata": {},
   "outputs": [],
   "source": [
    "import matplotlib.pyplot as plt"
   ]
  },
  {
   "cell_type": "code",
   "execution_count": 146,
   "metadata": {},
   "outputs": [
    {
     "name": "stdout",
     "output_type": "stream",
     "text": [
      "Buchberger random for ideal 1 completed\n",
      "Buchberger first for ideal 1 completed\n",
      "Buchberger degree for ideal 1 completed\n",
      "Buchberger random for ideal 2 completed\n",
      "Buchberger first for ideal 2 completed\n",
      "Buchberger degree for ideal 2 completed\n",
      "Buchberger random for ideal 3 completed\n",
      "Buchberger first for ideal 3 completed\n",
      "Buchberger degree for ideal 3 completed\n",
      "Buchberger random for ideal 4 completed\n",
      "Buchberger first for ideal 4 completed\n",
      "Buchberger degree for ideal 4 completed\n",
      "Buchberger random for ideal 5 completed\n",
      "Buchberger first for ideal 5 completed\n",
      "Buchberger degree for ideal 5 completed\n",
      "Buchberger random for ideal 6 completed\n",
      "Buchberger first for ideal 6 completed\n",
      "Buchberger degree for ideal 6 completed\n",
      "Buchberger random for ideal 7 completed\n",
      "Buchberger first for ideal 7 completed\n",
      "Buchberger degree for ideal 7 completed\n",
      "Buchberger random for ideal 8 completed\n",
      "Buchberger first for ideal 8 completed\n",
      "Buchberger degree for ideal 8 completed\n"
     ]
    },
    {
     "ename": "KeyboardInterrupt",
     "evalue": "",
     "output_type": "error",
     "traceback": [
      "\u001b[1;31m---------------------------------------------------------------------------\u001b[0m",
      "\u001b[1;31mKeyboardInterrupt\u001b[0m                         Traceback (most recent call last)",
      "\u001b[1;32m<ipython-input-146-2602a9c1c216>\u001b[0m in \u001b[0;36m<module>\u001b[1;34m\u001b[0m\n\u001b[1;32m----> 1\u001b[1;33m \u001b[0mresult_weighted\u001b[0m \u001b[1;33m=\u001b[0m \u001b[0mbuch\u001b[0m\u001b[1;33m.\u001b[0m\u001b[0mbuchberger_benchmark\u001b[0m\u001b[1;33m(\u001b[0m\u001b[1;36m2\u001b[0m\u001b[1;33m,\u001b[0m \u001b[1;36m3\u001b[0m\u001b[1;33m,\u001b[0m \u001b[1;36m2\u001b[0m\u001b[1;33m,\u001b[0m \u001b[1;36m1000\u001b[0m\u001b[1;33m,\u001b[0m \u001b[1;34m'uniform'\u001b[0m\u001b[1;33m)\u001b[0m\u001b[1;33m\u001b[0m\u001b[1;33m\u001b[0m\u001b[0m\n\u001b[0m",
      "\u001b[1;32m~\\Documents\\GitHub\\Buchberger\\buchberger.py\u001b[0m in \u001b[0;36mbuchberger_benchmark\u001b[1;34m(n, d, s, N, mode)\u001b[0m\n\u001b[0;32m    155\u001b[0m     \u001b[0mcounter\u001b[0m \u001b[1;33m=\u001b[0m \u001b[1;36m1\u001b[0m\u001b[1;33m\u001b[0m\u001b[1;33m\u001b[0m\u001b[0m\n\u001b[0;32m    156\u001b[0m     \u001b[1;32mfor\u001b[0m \u001b[0mideal\u001b[0m \u001b[1;32min\u001b[0m \u001b[0mideals\u001b[0m\u001b[1;33m:\u001b[0m\u001b[1;33m\u001b[0m\u001b[1;33m\u001b[0m\u001b[0m\n\u001b[1;32m--> 157\u001b[1;33m         \u001b[0mbuch_random\u001b[0m\u001b[1;33m.\u001b[0m\u001b[0mappend\u001b[0m\u001b[1;33m(\u001b[0m\u001b[0mbuchberger_random\u001b[0m\u001b[1;33m(\u001b[0m\u001b[0mideal\u001b[0m\u001b[1;33m)\u001b[0m\u001b[1;33m[\u001b[0m\u001b[1;36m1\u001b[0m\u001b[1;33m]\u001b[0m\u001b[1;33m)\u001b[0m\u001b[1;33m\u001b[0m\u001b[1;33m\u001b[0m\u001b[0m\n\u001b[0m\u001b[0;32m    158\u001b[0m         \u001b[0mprint\u001b[0m\u001b[1;33m(\u001b[0m\u001b[1;34m'Buchberger random for ideal {} completed'\u001b[0m\u001b[1;33m.\u001b[0m\u001b[0mformat\u001b[0m\u001b[1;33m(\u001b[0m\u001b[0mcounter\u001b[0m\u001b[1;33m)\u001b[0m\u001b[1;33m)\u001b[0m\u001b[1;33m\u001b[0m\u001b[1;33m\u001b[0m\u001b[0m\n\u001b[0;32m    159\u001b[0m         \u001b[0mbuch_first\u001b[0m\u001b[1;33m.\u001b[0m\u001b[0mappend\u001b[0m\u001b[1;33m(\u001b[0m\u001b[0mbuchberger_first\u001b[0m\u001b[1;33m(\u001b[0m\u001b[0mideal\u001b[0m\u001b[1;33m)\u001b[0m\u001b[1;33m[\u001b[0m\u001b[1;36m1\u001b[0m\u001b[1;33m]\u001b[0m\u001b[1;33m)\u001b[0m\u001b[1;33m\u001b[0m\u001b[1;33m\u001b[0m\u001b[0m\n",
      "\u001b[1;32m~\\Documents\\GitHub\\Buchberger\\buchberger.py\u001b[0m in \u001b[0;36mbuchberger_random\u001b[1;34m(F)\u001b[0m\n\u001b[0;32m     26\u001b[0m         \u001b[1;31m# print('The choice of pair is {} and {}'.format(f, g))\u001b[0m\u001b[1;33m\u001b[0m\u001b[1;33m\u001b[0m\u001b[1;33m\u001b[0m\u001b[0m\n\u001b[0;32m     27\u001b[0m         \u001b[0mP\u001b[0m\u001b[1;33m.\u001b[0m\u001b[0mremove\u001b[0m\u001b[1;33m(\u001b[0m\u001b[0mfg\u001b[0m\u001b[1;33m)\u001b[0m\u001b[1;33m\u001b[0m\u001b[1;33m\u001b[0m\u001b[0m\n\u001b[1;32m---> 28\u001b[1;33m         \u001b[0mr\u001b[0m\u001b[1;33m,\u001b[0m \u001b[0mnew_add\u001b[0m \u001b[1;33m=\u001b[0m \u001b[0mrd\u001b[0m\u001b[1;33m.\u001b[0m\u001b[0mreduce_lst\u001b[0m\u001b[1;33m(\u001b[0m\u001b[0mrd\u001b[0m\u001b[1;33m.\u001b[0m\u001b[0mS\u001b[0m\u001b[1;33m(\u001b[0m\u001b[0mf\u001b[0m\u001b[1;33m,\u001b[0m \u001b[0mg\u001b[0m\u001b[1;33m)\u001b[0m\u001b[1;33m,\u001b[0m \u001b[0mG\u001b[0m\u001b[1;33m)\u001b[0m\u001b[1;33m\u001b[0m\u001b[1;33m\u001b[0m\u001b[0m\n\u001b[0m\u001b[0;32m     29\u001b[0m         \u001b[0mnum_add\u001b[0m \u001b[1;33m+=\u001b[0m \u001b[0mnew_add\u001b[0m \u001b[1;33m+\u001b[0m \u001b[1;36m1\u001b[0m\u001b[1;33m\u001b[0m\u001b[1;33m\u001b[0m\u001b[0m\n\u001b[0;32m     30\u001b[0m         \u001b[1;31m# print('r is {}'.format(r))\u001b[0m\u001b[1;33m\u001b[0m\u001b[1;33m\u001b[0m\u001b[1;33m\u001b[0m\u001b[0m\n",
      "\u001b[1;32m~\\Documents\\GitHub\\Buchberger\\reduction.py\u001b[0m in \u001b[0;36mreduce_lst\u001b[1;34m(f, G)\u001b[0m\n\u001b[0;32m     43\u001b[0m         \u001b[0mnum_add\u001b[0m \u001b[1;33m+=\u001b[0m \u001b[1;36m1\u001b[0m\u001b[1;33m\u001b[0m\u001b[1;33m\u001b[0m\u001b[0m\n\u001b[0;32m     44\u001b[0m         \u001b[1;32mif\u001b[0m \u001b[1;32mnot\u001b[0m \u001b[0mr\u001b[0m\u001b[1;33m.\u001b[0m\u001b[0mis_zero\u001b[0m\u001b[1;33m(\u001b[0m\u001b[1;33m)\u001b[0m\u001b[1;33m:\u001b[0m\u001b[1;33m\u001b[0m\u001b[1;33m\u001b[0m\u001b[0m\n\u001b[1;32m---> 45\u001b[1;33m             \u001b[0mlst\u001b[0m \u001b[1;33m=\u001b[0m \u001b[1;33m[\u001b[0m\u001b[0mg\u001b[0m \u001b[1;32mfor\u001b[0m \u001b[0mg\u001b[0m \u001b[1;32min\u001b[0m \u001b[0mG\u001b[0m \u001b[1;32mif\u001b[0m \u001b[1;33m(\u001b[0m\u001b[0mr\u001b[0m\u001b[1;33m.\u001b[0m\u001b[0mlt\u001b[0m\u001b[1;33m(\u001b[0m\u001b[1;33m)\u001b[0m\u001b[1;33m)\u001b[0m\u001b[1;33m.\u001b[0m\u001b[0mdivide\u001b[0m\u001b[1;33m(\u001b[0m\u001b[0mg\u001b[0m\u001b[1;33m.\u001b[0m\u001b[0mlt\u001b[0m\u001b[1;33m(\u001b[0m\u001b[1;33m)\u001b[0m\u001b[1;33m)\u001b[0m\u001b[1;33m]\u001b[0m\u001b[1;33m\u001b[0m\u001b[1;33m\u001b[0m\u001b[0m\n\u001b[0m\u001b[0;32m     46\u001b[0m         \u001b[1;32melse\u001b[0m\u001b[1;33m:\u001b[0m\u001b[1;33m\u001b[0m\u001b[1;33m\u001b[0m\u001b[0m\n\u001b[0;32m     47\u001b[0m             \u001b[0mlst\u001b[0m \u001b[1;33m=\u001b[0m \u001b[1;33m[\u001b[0m\u001b[1;33m]\u001b[0m\u001b[1;33m\u001b[0m\u001b[1;33m\u001b[0m\u001b[0m\n",
      "\u001b[1;32m~\\Documents\\GitHub\\Buchberger\\reduction.py\u001b[0m in \u001b[0;36m<listcomp>\u001b[1;34m(.0)\u001b[0m\n\u001b[0;32m     43\u001b[0m         \u001b[0mnum_add\u001b[0m \u001b[1;33m+=\u001b[0m \u001b[1;36m1\u001b[0m\u001b[1;33m\u001b[0m\u001b[1;33m\u001b[0m\u001b[0m\n\u001b[0;32m     44\u001b[0m         \u001b[1;32mif\u001b[0m \u001b[1;32mnot\u001b[0m \u001b[0mr\u001b[0m\u001b[1;33m.\u001b[0m\u001b[0mis_zero\u001b[0m\u001b[1;33m(\u001b[0m\u001b[1;33m)\u001b[0m\u001b[1;33m:\u001b[0m\u001b[1;33m\u001b[0m\u001b[1;33m\u001b[0m\u001b[0m\n\u001b[1;32m---> 45\u001b[1;33m             \u001b[0mlst\u001b[0m \u001b[1;33m=\u001b[0m \u001b[1;33m[\u001b[0m\u001b[0mg\u001b[0m \u001b[1;32mfor\u001b[0m \u001b[0mg\u001b[0m \u001b[1;32min\u001b[0m \u001b[0mG\u001b[0m \u001b[1;32mif\u001b[0m \u001b[1;33m(\u001b[0m\u001b[0mr\u001b[0m\u001b[1;33m.\u001b[0m\u001b[0mlt\u001b[0m\u001b[1;33m(\u001b[0m\u001b[1;33m)\u001b[0m\u001b[1;33m)\u001b[0m\u001b[1;33m.\u001b[0m\u001b[0mdivide\u001b[0m\u001b[1;33m(\u001b[0m\u001b[0mg\u001b[0m\u001b[1;33m.\u001b[0m\u001b[0mlt\u001b[0m\u001b[1;33m(\u001b[0m\u001b[1;33m)\u001b[0m\u001b[1;33m)\u001b[0m\u001b[1;33m]\u001b[0m\u001b[1;33m\u001b[0m\u001b[1;33m\u001b[0m\u001b[0m\n\u001b[0m\u001b[0;32m     46\u001b[0m         \u001b[1;32melse\u001b[0m\u001b[1;33m:\u001b[0m\u001b[1;33m\u001b[0m\u001b[1;33m\u001b[0m\u001b[0m\n\u001b[0;32m     47\u001b[0m             \u001b[0mlst\u001b[0m \u001b[1;33m=\u001b[0m \u001b[1;33m[\u001b[0m\u001b[1;33m]\u001b[0m\u001b[1;33m\u001b[0m\u001b[1;33m\u001b[0m\u001b[0m\n",
      "\u001b[1;32m~\\Documents\\GitHub\\Buchberger\\polynomial.py\u001b[0m in \u001b[0;36mlt\u001b[1;34m(self)\u001b[0m\n\u001b[0;32m    107\u001b[0m \u001b[1;33m\u001b[0m\u001b[0m\n\u001b[0;32m    108\u001b[0m         \u001b[0mleading_term\u001b[0m \u001b[1;33m=\u001b[0m \u001b[0mself\u001b[0m\u001b[1;33m.\u001b[0m\u001b[0mmonomials\u001b[0m\u001b[1;33m[\u001b[0m\u001b[1;36m0\u001b[0m\u001b[1;33m]\u001b[0m\u001b[1;33m\u001b[0m\u001b[1;33m\u001b[0m\u001b[0m\n\u001b[1;32m--> 109\u001b[1;33m         \u001b[1;32mreturn\u001b[0m \u001b[0mPolynomial\u001b[0m\u001b[1;33m(\u001b[0m\u001b[0mleading_term\u001b[0m\u001b[1;33m.\u001b[0m\u001b[0mreshape\u001b[0m\u001b[1;33m(\u001b[0m\u001b[1;33m-\u001b[0m\u001b[1;36m1\u001b[0m\u001b[1;33m,\u001b[0m \u001b[0mlen\u001b[0m\u001b[1;33m(\u001b[0m\u001b[0mleading_term\u001b[0m\u001b[1;33m)\u001b[0m\u001b[1;33m)\u001b[0m\u001b[1;33m)\u001b[0m\u001b[1;33m\u001b[0m\u001b[1;33m\u001b[0m\u001b[0m\n\u001b[0m\u001b[0;32m    110\u001b[0m \u001b[1;33m\u001b[0m\u001b[0m\n\u001b[0;32m    111\u001b[0m \u001b[1;33m\u001b[0m\u001b[0m\n",
      "\u001b[1;32m~\\Documents\\GitHub\\Buchberger\\polynomial.py\u001b[0m in \u001b[0;36m__init__\u001b[1;34m(self, monomials)\u001b[0m\n\u001b[0;32m     47\u001b[0m \u001b[1;33m\u001b[0m\u001b[0m\n\u001b[0;32m     48\u001b[0m         \u001b[1;31m# Only keep nonzero monomials\u001b[0m\u001b[1;33m\u001b[0m\u001b[1;33m\u001b[0m\u001b[1;33m\u001b[0m\u001b[0m\n\u001b[1;32m---> 49\u001b[1;33m         \u001b[0mgrouped_monomials\u001b[0m \u001b[1;33m=\u001b[0m \u001b[0mnp\u001b[0m\u001b[1;33m.\u001b[0m\u001b[0marray\u001b[0m\u001b[1;33m(\u001b[0m\u001b[0mgrouped_monomials\u001b[0m\u001b[1;33m)\u001b[0m\u001b[1;33m\u001b[0m\u001b[1;33m\u001b[0m\u001b[0m\n\u001b[0m\u001b[0;32m     50\u001b[0m         \u001b[0mfiltered_monomials\u001b[0m \u001b[1;33m=\u001b[0m \u001b[1;33m[\u001b[0m\u001b[1;33m]\u001b[0m\u001b[1;33m\u001b[0m\u001b[1;33m\u001b[0m\u001b[0m\n\u001b[0;32m     51\u001b[0m         \u001b[1;32mfor\u001b[0m \u001b[0mmonomial\u001b[0m \u001b[1;32min\u001b[0m \u001b[0mgrouped_monomials\u001b[0m\u001b[1;33m:\u001b[0m\u001b[1;33m\u001b[0m\u001b[1;33m\u001b[0m\u001b[0m\n",
      "\u001b[1;31mKeyboardInterrupt\u001b[0m: "
     ]
    }
   ],
   "source": [
    "result_weighted = buch.buchberger_benchmark(2, 3, 2, 1000, 'uniform')"
   ]
  },
  {
   "cell_type": "code",
   "execution_count": 143,
   "metadata": {},
   "outputs": [
    {
     "data": {
      "text/plain": [
       "[30, 10, 7, 28, 2, 17, 6, 13, 2, 7]"
      ]
     },
     "execution_count": 143,
     "metadata": {},
     "output_type": "execute_result"
    }
   ],
   "source": [
    "result_weighted[0]"
   ]
  },
  {
   "cell_type": "code",
   "execution_count": 144,
   "metadata": {},
   "outputs": [
    {
     "data": {
      "text/plain": [
       "[74, 10, 7, 38, 2, 7, 6, 14, 2, 7]"
      ]
     },
     "execution_count": 144,
     "metadata": {},
     "output_type": "execute_result"
    }
   ],
   "source": [
    "result_weighted[1]"
   ]
  },
  {
   "cell_type": "code",
   "execution_count": 145,
   "metadata": {},
   "outputs": [
    {
     "data": {
      "text/plain": [
       "[56, 10, 7, 32, 2, 17, 6, 14, 2, 6]"
      ]
     },
     "execution_count": 145,
     "metadata": {},
     "output_type": "execute_result"
    }
   ],
   "source": [
    "result_weighted[2]"
   ]
  },
  {
   "cell_type": "code",
   "execution_count": null,
   "metadata": {},
   "outputs": [],
   "source": []
  },
  {
   "cell_type": "code",
   "execution_count": null,
   "metadata": {},
   "outputs": [],
   "source": []
  },
  {
   "cell_type": "code",
   "execution_count": null,
   "metadata": {},
   "outputs": [],
   "source": []
  }
 ],
 "metadata": {
  "kernelspec": {
   "display_name": "Python 3",
   "language": "python",
   "name": "python3"
  },
  "language_info": {
   "codemirror_mode": {
    "name": "ipython",
    "version": 3
   },
   "file_extension": ".py",
   "mimetype": "text/x-python",
   "name": "python",
   "nbconvert_exporter": "python",
   "pygments_lexer": "ipython3",
   "version": "3.7.6"
  }
 },
 "nbformat": 4,
 "nbformat_minor": 4
}
